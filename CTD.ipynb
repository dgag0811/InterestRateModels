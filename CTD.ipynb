{
 "cells": [
  {
   "cell_type": "code",
   "execution_count": 1,
   "id": "b98643df-62f4-44aa-8448-350e52fd0fec",
   "metadata": {},
   "outputs": [],
   "source": [
    "class Bond:\n",
    "    def __init__(self, name, price, conversion_factor, accrued_interest):\n",
    "        self.name = name\n",
    "        self.price = price\n",
    "        self.conversion_factor = conversion_factor\n",
    "        self.accrued_interest = accrued_interest\n",
    "    \n",
    "    def calculate_net_cost(self, futures_price):\n",
    "        # Net cost formula: Price of bond - (Future’s price × Conversion Factor) + Accrued Interest\n",
    "        return self.price - (futures_price * self.conversion_factor) + self.accrued_interest\n"
   ]
  },
  {
   "cell_type": "code",
   "execution_count": 5,
   "id": "0821f0d9-f8ac-4d3a-aa14-6d32fbaa2033",
   "metadata": {},
   "outputs": [],
   "source": [
    "def find_cheapest_to_deliver_bond(bonds, futures_price):\n",
    "    cheapest_bond = None\n",
    "    lowest_net_cost = float('inf')  # Start with a very large number\n",
    "    \n",
    "    for bond in bonds:\n",
    "        net_cost = bond.calculate_net_cost(futures_price)\n",
    "        print(f\"Net cost for {bond.name}: {net_cost}\")\n",
    "        \n",
    "        if net_cost < lowest_net_cost:\n",
    "            cheapest_bond = bond\n",
    "            lowest_net_cost = net_cost\n",
    "    \n",
    "    return cheapest_bond.name"
   ]
  },
  {
   "cell_type": "code",
   "execution_count": 6,
   "id": "573a802b-4017-474c-8610-60add33e63d7",
   "metadata": {
    "scrolled": true
   },
   "outputs": [
    {
     "name": "stdout",
     "output_type": "stream",
     "text": [
      "Net cost for Bond A: 178.0\n",
      "Net cost for Bond B: 157.0\n",
      "Net cost for Bond C: 156.0\n"
     ]
    }
   ],
   "source": [
    "# Example bonds data\n",
    "bond_a = Bond(name=\"Bond A\", price=1020, conversion_factor=0.85, accrued_interest=8)\n",
    "bond_b = Bond(name=\"Bond B\", price=1050, conversion_factor=0.90, accrued_interest=7)\n",
    "bond_c = Bond(name=\"Bond C\", price=1030, conversion_factor=0.88, accrued_interest=6)\n",
    "\n",
    "# List of bonds\n",
    "bonds = [bond_a, bond_b, bond_c]\n",
    "\n",
    "# Futures price\n",
    "futures_price = 1000\n",
    "\n",
    "# Find the cheapest to deliver bond\n",
    "cheapest_bond = find_cheapest_to_deliver_bond(bonds, futures_price)"
   ]
  },
  {
   "cell_type": "code",
   "execution_count": 7,
   "id": "e3099889-4435-47f2-861d-0f64aa0c4c24",
   "metadata": {},
   "outputs": [
    {
     "name": "stdout",
     "output_type": "stream",
     "text": [
      "Bond C\n"
     ]
    }
   ],
   "source": [
    "print(cheapest_bond)"
   ]
  },
  {
   "cell_type": "code",
   "execution_count": null,
   "id": "ac76afcb-4c43-4f09-8ce8-13c867121688",
   "metadata": {},
   "outputs": [],
   "source": []
  }
 ],
 "metadata": {
  "kernelspec": {
   "display_name": "Python 3 (ipykernel)",
   "language": "python",
   "name": "python3"
  },
  "language_info": {
   "codemirror_mode": {
    "name": "ipython",
    "version": 3
   },
   "file_extension": ".py",
   "mimetype": "text/x-python",
   "name": "python",
   "nbconvert_exporter": "python",
   "pygments_lexer": "ipython3",
   "version": "3.9.6"
  }
 },
 "nbformat": 4,
 "nbformat_minor": 5
}
